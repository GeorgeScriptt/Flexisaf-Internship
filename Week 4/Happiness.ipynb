{
 "cells": [
  {
   "cell_type": "markdown",
   "id": "ed876807-a799-4230-9334-9cce7a613db7",
   "metadata": {},
   "source": [
    "## OBJECTIVES\n",
    "Analyze a small, publicly available dataset using Python's NumPy or Pandas libraries.                                                                                                \n",
    "1. Explore the data:\n",
    "\n",
    "Print the first few rows using data.head().\n",
    "Check the data types of each column using data.info().\n",
    "Get summary statistics (mean, median, standard deviation, etc.) using data.describe().\n",
    "\n",
    "2. Calculate basic statistics:\n",
    "\n",
    "Calculate the mean, median, mode, and standard deviation for each numerical feature.\n",
    "Calculate the correlation between different features using data.corr()."
   ]
  },
  {
   "cell_type": "markdown",
   "id": "f145847e-4ddd-4de6-84f7-4e394a4dd497",
   "metadata": {},
   "source": [
    "## WORLD HAPPINESS DATA"
   ]
  },
  {
   "cell_type": "markdown",
   "id": "930e9ee8-0c52-4210-b0e4-96e444ffa030",
   "metadata": {},
   "source": [
    "The dataset used in this notebook is from the [World Happiness Report](https://worldhappiness.report/) datasetThe dataset consists of 2624 rows, where each row contains various hapiness-related metrics for a certain country in a given year."
   ]
  },
  {
   "cell_type": "code",
   "execution_count": 1,
   "id": "088f1937-0dcc-4f63-a8e7-508ee6942cbc",
   "metadata": {},
   "outputs": [],
   "source": [
    "# import libraries\n",
    "import math\n",
    "import numpy as np\n",
    "import pandas as pd\n",
    "import matplotlib.pyplot as plt\n",
    "%matplotlib inline"
   ]
  },
  {
   "cell_type": "code",
   "execution_count": 3,
   "id": "aeb388da-9786-4343-9e5e-15c902d53e33",
   "metadata": {},
   "outputs": [
    {
     "data": {
      "text/html": [
       "<div>\n",
       "<style scoped>\n",
       "    .dataframe tbody tr th:only-of-type {\n",
       "        vertical-align: middle;\n",
       "    }\n",
       "\n",
       "    .dataframe tbody tr th {\n",
       "        vertical-align: top;\n",
       "    }\n",
       "\n",
       "    .dataframe thead th {\n",
       "        text-align: right;\n",
       "    }\n",
       "</style>\n",
       "<table border=\"1\" class=\"dataframe\">\n",
       "  <thead>\n",
       "    <tr style=\"text-align: right;\">\n",
       "      <th></th>\n",
       "      <th>Year</th>\n",
       "      <th>Rank</th>\n",
       "      <th>Country name</th>\n",
       "      <th>Ladder score</th>\n",
       "      <th>upperwhisker</th>\n",
       "      <th>lowerwhisker</th>\n",
       "      <th>Explained by: Log GDP per capita</th>\n",
       "      <th>Explained by: Social support</th>\n",
       "      <th>Explained by: Healthy life expectancy</th>\n",
       "      <th>Explained by: Freedom to make life choices</th>\n",
       "      <th>...</th>\n",
       "      <th>Unnamed: 18</th>\n",
       "      <th>Unnamed: 19</th>\n",
       "      <th>Unnamed: 20</th>\n",
       "      <th>Unnamed: 21</th>\n",
       "      <th>Unnamed: 22</th>\n",
       "      <th>Unnamed: 23</th>\n",
       "      <th>Unnamed: 24</th>\n",
       "      <th>Unnamed: 25</th>\n",
       "      <th>Unnamed: 26</th>\n",
       "      <th>Unnamed: 27</th>\n",
       "    </tr>\n",
       "  </thead>\n",
       "  <tbody>\n",
       "    <tr>\n",
       "      <th>0</th>\n",
       "      <td>2023.0</td>\n",
       "      <td>143.0</td>\n",
       "      <td>Afghanistan</td>\n",
       "      <td>1.721</td>\n",
       "      <td>1.775</td>\n",
       "      <td>1.667</td>\n",
       "      <td>0.628</td>\n",
       "      <td>0.000</td>\n",
       "      <td>0.242</td>\n",
       "      <td>0.0</td>\n",
       "      <td>...</td>\n",
       "      <td>NaN</td>\n",
       "      <td>NaN</td>\n",
       "      <td>NaN</td>\n",
       "      <td>NaN</td>\n",
       "      <td>NaN</td>\n",
       "      <td>NaN</td>\n",
       "      <td>NaN</td>\n",
       "      <td>NaN</td>\n",
       "      <td>NaN</td>\n",
       "      <td>NaN</td>\n",
       "    </tr>\n",
       "    <tr>\n",
       "      <th>1</th>\n",
       "      <td>2022.0</td>\n",
       "      <td>137.0</td>\n",
       "      <td>Afghanistan</td>\n",
       "      <td>1.859</td>\n",
       "      <td>1.923</td>\n",
       "      <td>1.795</td>\n",
       "      <td>0.645</td>\n",
       "      <td>0.000</td>\n",
       "      <td>0.087</td>\n",
       "      <td>0.0</td>\n",
       "      <td>...</td>\n",
       "      <td>NaN</td>\n",
       "      <td>NaN</td>\n",
       "      <td>NaN</td>\n",
       "      <td>NaN</td>\n",
       "      <td>NaN</td>\n",
       "      <td>NaN</td>\n",
       "      <td>NaN</td>\n",
       "      <td>NaN</td>\n",
       "      <td>NaN</td>\n",
       "      <td>NaN</td>\n",
       "    </tr>\n",
       "    <tr>\n",
       "      <th>2</th>\n",
       "      <td>2021.0</td>\n",
       "      <td>146.0</td>\n",
       "      <td>Afghanistan</td>\n",
       "      <td>2.404</td>\n",
       "      <td>2.469</td>\n",
       "      <td>2.339</td>\n",
       "      <td>0.758</td>\n",
       "      <td>0.000</td>\n",
       "      <td>0.289</td>\n",
       "      <td>0.0</td>\n",
       "      <td>...</td>\n",
       "      <td>NaN</td>\n",
       "      <td>NaN</td>\n",
       "      <td>NaN</td>\n",
       "      <td>NaN</td>\n",
       "      <td>NaN</td>\n",
       "      <td>NaN</td>\n",
       "      <td>NaN</td>\n",
       "      <td>NaN</td>\n",
       "      <td>NaN</td>\n",
       "      <td>NaN</td>\n",
       "    </tr>\n",
       "    <tr>\n",
       "      <th>3</th>\n",
       "      <td>2020.0</td>\n",
       "      <td>150.0</td>\n",
       "      <td>Afghanistan</td>\n",
       "      <td>2.523</td>\n",
       "      <td>2.596</td>\n",
       "      <td>2.449</td>\n",
       "      <td>0.370</td>\n",
       "      <td>0.000</td>\n",
       "      <td>0.126</td>\n",
       "      <td>0.0</td>\n",
       "      <td>...</td>\n",
       "      <td>NaN</td>\n",
       "      <td>NaN</td>\n",
       "      <td>NaN</td>\n",
       "      <td>NaN</td>\n",
       "      <td>NaN</td>\n",
       "      <td>NaN</td>\n",
       "      <td>NaN</td>\n",
       "      <td>NaN</td>\n",
       "      <td>NaN</td>\n",
       "      <td>NaN</td>\n",
       "    </tr>\n",
       "    <tr>\n",
       "      <th>4</th>\n",
       "      <td>2019.0</td>\n",
       "      <td>153.0</td>\n",
       "      <td>Afghanistan</td>\n",
       "      <td>2.567</td>\n",
       "      <td>2.628</td>\n",
       "      <td>2.506</td>\n",
       "      <td>0.301</td>\n",
       "      <td>0.356</td>\n",
       "      <td>0.266</td>\n",
       "      <td>0.0</td>\n",
       "      <td>...</td>\n",
       "      <td>NaN</td>\n",
       "      <td>NaN</td>\n",
       "      <td>NaN</td>\n",
       "      <td>NaN</td>\n",
       "      <td>NaN</td>\n",
       "      <td>NaN</td>\n",
       "      <td>NaN</td>\n",
       "      <td>NaN</td>\n",
       "      <td>NaN</td>\n",
       "      <td>NaN</td>\n",
       "    </tr>\n",
       "  </tbody>\n",
       "</table>\n",
       "<p>5 rows × 28 columns</p>\n",
       "</div>"
      ],
      "text/plain": [
       "     Year   Rank Country name  Ladder score  upperwhisker  lowerwhisker  \\\n",
       "0  2023.0  143.0  Afghanistan         1.721         1.775         1.667   \n",
       "1  2022.0  137.0  Afghanistan         1.859         1.923         1.795   \n",
       "2  2021.0  146.0  Afghanistan         2.404         2.469         2.339   \n",
       "3  2020.0  150.0  Afghanistan         2.523         2.596         2.449   \n",
       "4  2019.0  153.0  Afghanistan         2.567         2.628         2.506   \n",
       "\n",
       "   Explained by: Log GDP per capita  Explained by: Social support  \\\n",
       "0                             0.628                         0.000   \n",
       "1                             0.645                         0.000   \n",
       "2                             0.758                         0.000   \n",
       "3                             0.370                         0.000   \n",
       "4                             0.301                         0.356   \n",
       "\n",
       "   Explained by: Healthy life expectancy  \\\n",
       "0                                  0.242   \n",
       "1                                  0.087   \n",
       "2                                  0.289   \n",
       "3                                  0.126   \n",
       "4                                  0.266   \n",
       "\n",
       "   Explained by: Freedom to make life choices  ...  Unnamed: 18  Unnamed: 19  \\\n",
       "0                                         0.0  ...          NaN          NaN   \n",
       "1                                         0.0  ...          NaN          NaN   \n",
       "2                                         0.0  ...          NaN          NaN   \n",
       "3                                         0.0  ...          NaN          NaN   \n",
       "4                                         0.0  ...          NaN          NaN   \n",
       "\n",
       "   Unnamed: 20  Unnamed: 21  Unnamed: 22  Unnamed: 23  Unnamed: 24  \\\n",
       "0          NaN          NaN          NaN          NaN          NaN   \n",
       "1          NaN          NaN          NaN          NaN          NaN   \n",
       "2          NaN          NaN          NaN          NaN          NaN   \n",
       "3          NaN          NaN          NaN          NaN          NaN   \n",
       "4          NaN          NaN          NaN          NaN          NaN   \n",
       "\n",
       "   Unnamed: 25  Unnamed: 26  Unnamed: 27  \n",
       "0          NaN          NaN          NaN  \n",
       "1          NaN          NaN          NaN  \n",
       "2          NaN          NaN          NaN  \n",
       "3          NaN          NaN          NaN  \n",
       "4          NaN          NaN          NaN  \n",
       "\n",
       "[5 rows x 28 columns]"
      ]
     },
     "execution_count": 3,
     "metadata": {},
     "output_type": "execute_result"
    }
   ],
   "source": [
    "file_name = \"World_Happiness.csv\"\n",
    "\n",
    "# Read file into pandas dataframe\n",
    "df = pd.read_csv(file_name)\n",
    "\n",
    "# Display first five row\n",
    "df.head()"
   ]
  },
  {
   "cell_type": "code",
   "execution_count": 5,
   "id": "c3ae4f93-e6e1-4603-8ca6-98ef9d5bf269",
   "metadata": {},
   "outputs": [
    {
     "data": {
      "text/plain": [
       "(2624, 28)"
      ]
     },
     "execution_count": 5,
     "metadata": {},
     "output_type": "execute_result"
    }
   ],
   "source": [
    "df.shape"
   ]
  },
  {
   "cell_type": "code",
   "execution_count": 7,
   "id": "d0adefdd-2c91-41a7-ba78-691a3de6238d",
   "metadata": {},
   "outputs": [
    {
     "data": {
      "text/plain": [
       "Index(['Year', 'Rank', 'Country name', 'Ladder score', 'upperwhisker',\n",
       "       'lowerwhisker', 'Explained by: Log GDP per capita',\n",
       "       'Explained by: Social support', 'Explained by: Healthy life expectancy',\n",
       "       'Explained by: Freedom to make life choices',\n",
       "       'Explained by: Generosity', 'Explained by: Perceptions of corruption',\n",
       "       'Dystopia + residual', 'Unnamed: 13', 'Unnamed: 14', 'Unnamed: 15',\n",
       "       'Unnamed: 16', 'Unnamed: 17', 'Unnamed: 18', 'Unnamed: 19',\n",
       "       'Unnamed: 20', 'Unnamed: 21', 'Unnamed: 22', 'Unnamed: 23',\n",
       "       'Unnamed: 24', 'Unnamed: 25', 'Unnamed: 26', 'Unnamed: 27'],\n",
       "      dtype='object')"
      ]
     },
     "execution_count": 7,
     "metadata": {},
     "output_type": "execute_result"
    }
   ],
   "source": [
    "df.columns"
   ]
  },
  {
   "cell_type": "code",
   "execution_count": 9,
   "id": "ad4950a9-c902-40ce-b3f3-239987d17c34",
   "metadata": {},
   "outputs": [
    {
     "data": {
      "text/plain": [
       "Index(['Year', 'Country name', 'Ladder score', 'upperwhisker', 'lowerwhisker',\n",
       "       'Explained by: Log GDP per capita', 'Explained by: Social support',\n",
       "       'Explained by: Healthy life expectancy',\n",
       "       'Explained by: Freedom to make life choices'],\n",
       "      dtype='object')"
      ]
     },
     "execution_count": 9,
     "metadata": {},
     "output_type": "execute_result"
    }
   ],
   "source": [
    "# Using loc[] to chosen required columns\n",
    "df = df.loc[0:, \"Year\":\"Explained by: Freedom to make life choices\"]\n",
    "df.drop(columns=\"Rank\", inplace=True)\n",
    "\n",
    "# Recheck columns\n",
    "df.columns"
   ]
  },
  {
   "cell_type": "code",
   "execution_count": 11,
   "id": "099b5647-0d1f-48a8-b7dc-72bb1fcc1761",
   "metadata": {},
   "outputs": [
    {
     "data": {
      "text/html": [
       "<div>\n",
       "<style scoped>\n",
       "    .dataframe tbody tr th:only-of-type {\n",
       "        vertical-align: middle;\n",
       "    }\n",
       "\n",
       "    .dataframe tbody tr th {\n",
       "        vertical-align: top;\n",
       "    }\n",
       "\n",
       "    .dataframe thead th {\n",
       "        text-align: right;\n",
       "    }\n",
       "</style>\n",
       "<table border=\"1\" class=\"dataframe\">\n",
       "  <thead>\n",
       "    <tr style=\"text-align: right;\">\n",
       "      <th></th>\n",
       "      <th>Year</th>\n",
       "      <th>Ladder score</th>\n",
       "      <th>upperwhisker</th>\n",
       "      <th>lowerwhisker</th>\n",
       "      <th>Explained by: Log GDP per capita</th>\n",
       "      <th>Explained by: Social support</th>\n",
       "      <th>Explained by: Healthy life expectancy</th>\n",
       "      <th>Explained by: Freedom to make life choices</th>\n",
       "    </tr>\n",
       "  </thead>\n",
       "  <tbody>\n",
       "    <tr>\n",
       "      <th>count</th>\n",
       "      <td>1969.000000</td>\n",
       "      <td>1969.000000</td>\n",
       "      <td>875.000000</td>\n",
       "      <td>875.000000</td>\n",
       "      <td>872.000000</td>\n",
       "      <td>872.000000</td>\n",
       "      <td>870.000000</td>\n",
       "      <td>871.000000</td>\n",
       "    </tr>\n",
       "    <tr>\n",
       "      <th>mean</th>\n",
       "      <td>2017.714068</td>\n",
       "      <td>5.451904</td>\n",
       "      <td>5.648687</td>\n",
       "      <td>5.418737</td>\n",
       "      <td>1.220280</td>\n",
       "      <td>1.078529</td>\n",
       "      <td>0.542917</td>\n",
       "      <td>0.563723</td>\n",
       "    </tr>\n",
       "    <tr>\n",
       "      <th>std</th>\n",
       "      <td>3.964913</td>\n",
       "      <td>1.121865</td>\n",
       "      <td>1.103935</td>\n",
       "      <td>1.139067</td>\n",
       "      <td>0.463448</td>\n",
       "      <td>0.355055</td>\n",
       "      <td>0.222949</td>\n",
       "      <td>0.180203</td>\n",
       "    </tr>\n",
       "    <tr>\n",
       "      <th>min</th>\n",
       "      <td>2011.000000</td>\n",
       "      <td>1.364000</td>\n",
       "      <td>1.427000</td>\n",
       "      <td>1.301000</td>\n",
       "      <td>0.000000</td>\n",
       "      <td>0.000000</td>\n",
       "      <td>0.000000</td>\n",
       "      <td>0.000000</td>\n",
       "    </tr>\n",
       "    <tr>\n",
       "      <th>25%</th>\n",
       "      <td>2015.000000</td>\n",
       "      <td>4.596000</td>\n",
       "      <td>4.885000</td>\n",
       "      <td>4.638000</td>\n",
       "      <td>0.901250</td>\n",
       "      <td>0.850750</td>\n",
       "      <td>0.383000</td>\n",
       "      <td>0.450500</td>\n",
       "    </tr>\n",
       "    <tr>\n",
       "      <th>50%</th>\n",
       "      <td>2018.000000</td>\n",
       "      <td>5.456000</td>\n",
       "      <td>5.775000</td>\n",
       "      <td>5.529000</td>\n",
       "      <td>1.263500</td>\n",
       "      <td>1.106500</td>\n",
       "      <td>0.555000</td>\n",
       "      <td>0.571000</td>\n",
       "    </tr>\n",
       "    <tr>\n",
       "      <th>75%</th>\n",
       "      <td>2021.000000</td>\n",
       "      <td>6.295000</td>\n",
       "      <td>6.458500</td>\n",
       "      <td>6.254000</td>\n",
       "      <td>1.567000</td>\n",
       "      <td>1.361000</td>\n",
       "      <td>0.704750</td>\n",
       "      <td>0.676000</td>\n",
       "    </tr>\n",
       "    <tr>\n",
       "      <th>max</th>\n",
       "      <td>2024.000000</td>\n",
       "      <td>7.856000</td>\n",
       "      <td>7.904000</td>\n",
       "      <td>7.780000</td>\n",
       "      <td>2.209000</td>\n",
       "      <td>1.840000</td>\n",
       "      <td>1.138000</td>\n",
       "      <td>1.018000</td>\n",
       "    </tr>\n",
       "  </tbody>\n",
       "</table>\n",
       "</div>"
      ],
      "text/plain": [
       "              Year  Ladder score  upperwhisker  lowerwhisker  \\\n",
       "count  1969.000000   1969.000000    875.000000    875.000000   \n",
       "mean   2017.714068      5.451904      5.648687      5.418737   \n",
       "std       3.964913      1.121865      1.103935      1.139067   \n",
       "min    2011.000000      1.364000      1.427000      1.301000   \n",
       "25%    2015.000000      4.596000      4.885000      4.638000   \n",
       "50%    2018.000000      5.456000      5.775000      5.529000   \n",
       "75%    2021.000000      6.295000      6.458500      6.254000   \n",
       "max    2024.000000      7.856000      7.904000      7.780000   \n",
       "\n",
       "       Explained by: Log GDP per capita  Explained by: Social support  \\\n",
       "count                        872.000000                    872.000000   \n",
       "mean                           1.220280                      1.078529   \n",
       "std                            0.463448                      0.355055   \n",
       "min                            0.000000                      0.000000   \n",
       "25%                            0.901250                      0.850750   \n",
       "50%                            1.263500                      1.106500   \n",
       "75%                            1.567000                      1.361000   \n",
       "max                            2.209000                      1.840000   \n",
       "\n",
       "       Explained by: Healthy life expectancy  \\\n",
       "count                             870.000000   \n",
       "mean                                0.542917   \n",
       "std                                 0.222949   \n",
       "min                                 0.000000   \n",
       "25%                                 0.383000   \n",
       "50%                                 0.555000   \n",
       "75%                                 0.704750   \n",
       "max                                 1.138000   \n",
       "\n",
       "       Explained by: Freedom to make life choices  \n",
       "count                                  871.000000  \n",
       "mean                                     0.563723  \n",
       "std                                      0.180203  \n",
       "min                                      0.000000  \n",
       "25%                                      0.450500  \n",
       "50%                                      0.571000  \n",
       "75%                                      0.676000  \n",
       "max                                      1.018000  "
      ]
     },
     "execution_count": 11,
     "metadata": {},
     "output_type": "execute_result"
    }
   ],
   "source": [
    "# Basic descriptive of the dataframe\n",
    "df.describe()"
   ]
  },
  {
   "cell_type": "code",
   "execution_count": 13,
   "id": "1a28d500-d5b2-403a-8482-24039f9a70f6",
   "metadata": {},
   "outputs": [
    {
     "name": "stdout",
     "output_type": "stream",
     "text": [
      "<class 'pandas.core.frame.DataFrame'>\n",
      "RangeIndex: 2624 entries, 0 to 2623\n",
      "Data columns (total 9 columns):\n",
      " #   Column                                      Non-Null Count  Dtype  \n",
      "---  ------                                      --------------  -----  \n",
      " 0   Year                                        1969 non-null   float64\n",
      " 1   Country name                                1969 non-null   object \n",
      " 2   Ladder score                                1969 non-null   float64\n",
      " 3   upperwhisker                                875 non-null    float64\n",
      " 4   lowerwhisker                                875 non-null    float64\n",
      " 5   Explained by: Log GDP per capita            872 non-null    float64\n",
      " 6   Explained by: Social support                872 non-null    float64\n",
      " 7   Explained by: Healthy life expectancy       870 non-null    float64\n",
      " 8   Explained by: Freedom to make life choices  871 non-null    float64\n",
      "dtypes: float64(8), object(1)\n",
      "memory usage: 184.6+ KB\n"
     ]
    }
   ],
   "source": [
    "# Basic info of the dataframe\n",
    "df.info()"
   ]
  },
  {
   "cell_type": "markdown",
   "id": "5fefd23d-90d1-4cc9-b2cf-43348b1fd838",
   "metadata": {},
   "source": [
    "## DATA WRANGLING"
   ]
  },
  {
   "cell_type": "markdown",
   "id": "f282a0ba-aed0-4227-b382-fa8b5a2813dd",
   "metadata": {},
   "source": [
    "### Data Type"
   ]
  },
  {
   "cell_type": "code",
   "execution_count": 15,
   "id": "10531f6b-c259-4a3a-a451-7266192a2eb8",
   "metadata": {},
   "outputs": [
    {
     "data": {
      "text/plain": [
       "Year                                          float64\n",
       "Country name                                   object\n",
       "Ladder score                                  float64\n",
       "upperwhisker                                  float64\n",
       "lowerwhisker                                  float64\n",
       "Explained by: Log GDP per capita              float64\n",
       "Explained by: Social support                  float64\n",
       "Explained by: Healthy life expectancy         float64\n",
       "Explained by: Freedom to make life choices    float64\n",
       "dtype: object"
      ]
     },
     "execution_count": 15,
     "metadata": {},
     "output_type": "execute_result"
    }
   ],
   "source": [
    "df.dtypes"
   ]
  },
  {
   "cell_type": "code",
   "execution_count": 17,
   "id": "3667fb9e-d826-43d8-883a-fc6413edbfd6",
   "metadata": {},
   "outputs": [],
   "source": [
    "df[\"Year\"] = df[\"Year\"].astype(str)"
   ]
  },
  {
   "cell_type": "markdown",
   "id": "20d83e5f-b9d0-47c4-bdc0-a1640e2ec3c9",
   "metadata": {},
   "source": [
    "### Handling Null Values"
   ]
  },
  {
   "cell_type": "code",
   "execution_count": 19,
   "id": "300c7c65-d2b9-41b3-847c-a3592a170422",
   "metadata": {},
   "outputs": [
    {
     "data": {
      "text/plain": [
       "Year                                             0\n",
       "Country name                                   655\n",
       "Ladder score                                   655\n",
       "upperwhisker                                  1749\n",
       "lowerwhisker                                  1749\n",
       "Explained by: Log GDP per capita              1752\n",
       "Explained by: Social support                  1752\n",
       "Explained by: Healthy life expectancy         1754\n",
       "Explained by: Freedom to make life choices    1753\n",
       "dtype: int64"
      ]
     },
     "execution_count": 19,
     "metadata": {},
     "output_type": "execute_result"
    }
   ],
   "source": [
    "# Check total null values in each column\n",
    "df.isnull().sum()"
   ]
  },
  {
   "cell_type": "code",
   "execution_count": 21,
   "id": "2bc73553-c7c4-4e29-b233-765d88e2e9ea",
   "metadata": {},
   "outputs": [],
   "source": [
    "# extract null values using the column \"Year\" as subset\n",
    "year_null = df[df[\"Year\"].isnull()]\n",
    "\n",
    "# drop the null values by index/rows\n",
    "df.drop(year_null.index, inplace=True)"
   ]
  },
  {
   "cell_type": "code",
   "execution_count": 23,
   "id": "51b8d9e0-7dd1-4692-950c-892d509f6753",
   "metadata": {},
   "outputs": [
    {
     "data": {
      "text/plain": [
       "Year                                             0\n",
       "Country name                                   655\n",
       "Ladder score                                   655\n",
       "upperwhisker                                  1749\n",
       "lowerwhisker                                  1749\n",
       "Explained by: Log GDP per capita              1752\n",
       "Explained by: Social support                  1752\n",
       "Explained by: Healthy life expectancy         1754\n",
       "Explained by: Freedom to make life choices    1753\n",
       "dtype: int64"
      ]
     },
     "execution_count": 23,
     "metadata": {},
     "output_type": "execute_result"
    }
   ],
   "source": [
    "# Rechecking the null values \n",
    "df.isnull().sum()"
   ]
  },
  {
   "cell_type": "code",
   "execution_count": 25,
   "id": "e2472609-4458-45a3-afe3-bb8e6553c852",
   "metadata": {},
   "outputs": [
    {
     "data": {
      "text/html": [
       "<div>\n",
       "<style scoped>\n",
       "    .dataframe tbody tr th:only-of-type {\n",
       "        vertical-align: middle;\n",
       "    }\n",
       "\n",
       "    .dataframe tbody tr th {\n",
       "        vertical-align: top;\n",
       "    }\n",
       "\n",
       "    .dataframe thead th {\n",
       "        text-align: right;\n",
       "    }\n",
       "</style>\n",
       "<table border=\"1\" class=\"dataframe\">\n",
       "  <thead>\n",
       "    <tr style=\"text-align: right;\">\n",
       "      <th></th>\n",
       "      <th>Year</th>\n",
       "      <th>Country name</th>\n",
       "      <th>Ladder score</th>\n",
       "      <th>upperwhisker</th>\n",
       "      <th>lowerwhisker</th>\n",
       "      <th>Explained by: Log GDP per capita</th>\n",
       "      <th>Explained by: Social support</th>\n",
       "      <th>Explained by: Healthy life expectancy</th>\n",
       "      <th>Explained by: Freedom to make life choices</th>\n",
       "    </tr>\n",
       "  </thead>\n",
       "  <tbody>\n",
       "    <tr>\n",
       "      <th>5</th>\n",
       "      <td>2018.0</td>\n",
       "      <td>Afghanistan</td>\n",
       "      <td>3.203</td>\n",
       "      <td>NaN</td>\n",
       "      <td>NaN</td>\n",
       "      <td>NaN</td>\n",
       "      <td>NaN</td>\n",
       "      <td>NaN</td>\n",
       "      <td>NaN</td>\n",
       "    </tr>\n",
       "    <tr>\n",
       "      <th>6</th>\n",
       "      <td>2017.0</td>\n",
       "      <td>Afghanistan</td>\n",
       "      <td>3.632</td>\n",
       "      <td>NaN</td>\n",
       "      <td>NaN</td>\n",
       "      <td>NaN</td>\n",
       "      <td>NaN</td>\n",
       "      <td>NaN</td>\n",
       "      <td>NaN</td>\n",
       "    </tr>\n",
       "    <tr>\n",
       "      <th>7</th>\n",
       "      <td>2016.0</td>\n",
       "      <td>Afghanistan</td>\n",
       "      <td>3.794</td>\n",
       "      <td>NaN</td>\n",
       "      <td>NaN</td>\n",
       "      <td>NaN</td>\n",
       "      <td>NaN</td>\n",
       "      <td>NaN</td>\n",
       "      <td>NaN</td>\n",
       "    </tr>\n",
       "    <tr>\n",
       "      <th>8</th>\n",
       "      <td>2015.0</td>\n",
       "      <td>Afghanistan</td>\n",
       "      <td>3.360</td>\n",
       "      <td>NaN</td>\n",
       "      <td>NaN</td>\n",
       "      <td>NaN</td>\n",
       "      <td>NaN</td>\n",
       "      <td>NaN</td>\n",
       "      <td>NaN</td>\n",
       "    </tr>\n",
       "    <tr>\n",
       "      <th>9</th>\n",
       "      <td>2014.0</td>\n",
       "      <td>Afghanistan</td>\n",
       "      <td>3.575</td>\n",
       "      <td>NaN</td>\n",
       "      <td>NaN</td>\n",
       "      <td>NaN</td>\n",
       "      <td>NaN</td>\n",
       "      <td>NaN</td>\n",
       "      <td>NaN</td>\n",
       "    </tr>\n",
       "    <tr>\n",
       "      <th>...</th>\n",
       "      <td>...</td>\n",
       "      <td>...</td>\n",
       "      <td>...</td>\n",
       "      <td>...</td>\n",
       "      <td>...</td>\n",
       "      <td>...</td>\n",
       "      <td>...</td>\n",
       "      <td>...</td>\n",
       "      <td>...</td>\n",
       "    </tr>\n",
       "    <tr>\n",
       "      <th>2619</th>\n",
       "      <td>nan</td>\n",
       "      <td>NaN</td>\n",
       "      <td>NaN</td>\n",
       "      <td>NaN</td>\n",
       "      <td>NaN</td>\n",
       "      <td>NaN</td>\n",
       "      <td>NaN</td>\n",
       "      <td>NaN</td>\n",
       "      <td>NaN</td>\n",
       "    </tr>\n",
       "    <tr>\n",
       "      <th>2620</th>\n",
       "      <td>nan</td>\n",
       "      <td>NaN</td>\n",
       "      <td>NaN</td>\n",
       "      <td>NaN</td>\n",
       "      <td>NaN</td>\n",
       "      <td>NaN</td>\n",
       "      <td>NaN</td>\n",
       "      <td>NaN</td>\n",
       "      <td>NaN</td>\n",
       "    </tr>\n",
       "    <tr>\n",
       "      <th>2621</th>\n",
       "      <td>nan</td>\n",
       "      <td>NaN</td>\n",
       "      <td>NaN</td>\n",
       "      <td>NaN</td>\n",
       "      <td>NaN</td>\n",
       "      <td>NaN</td>\n",
       "      <td>NaN</td>\n",
       "      <td>NaN</td>\n",
       "      <td>NaN</td>\n",
       "    </tr>\n",
       "    <tr>\n",
       "      <th>2622</th>\n",
       "      <td>nan</td>\n",
       "      <td>NaN</td>\n",
       "      <td>NaN</td>\n",
       "      <td>NaN</td>\n",
       "      <td>NaN</td>\n",
       "      <td>NaN</td>\n",
       "      <td>NaN</td>\n",
       "      <td>NaN</td>\n",
       "      <td>NaN</td>\n",
       "    </tr>\n",
       "    <tr>\n",
       "      <th>2623</th>\n",
       "      <td>nan</td>\n",
       "      <td>NaN</td>\n",
       "      <td>NaN</td>\n",
       "      <td>NaN</td>\n",
       "      <td>NaN</td>\n",
       "      <td>NaN</td>\n",
       "      <td>NaN</td>\n",
       "      <td>NaN</td>\n",
       "      <td>NaN</td>\n",
       "    </tr>\n",
       "  </tbody>\n",
       "</table>\n",
       "<p>1749 rows × 9 columns</p>\n",
       "</div>"
      ],
      "text/plain": [
       "        Year Country name  Ladder score  upperwhisker  lowerwhisker  \\\n",
       "5     2018.0  Afghanistan         3.203           NaN           NaN   \n",
       "6     2017.0  Afghanistan         3.632           NaN           NaN   \n",
       "7     2016.0  Afghanistan         3.794           NaN           NaN   \n",
       "8     2015.0  Afghanistan         3.360           NaN           NaN   \n",
       "9     2014.0  Afghanistan         3.575           NaN           NaN   \n",
       "...      ...          ...           ...           ...           ...   \n",
       "2619     nan          NaN           NaN           NaN           NaN   \n",
       "2620     nan          NaN           NaN           NaN           NaN   \n",
       "2621     nan          NaN           NaN           NaN           NaN   \n",
       "2622     nan          NaN           NaN           NaN           NaN   \n",
       "2623     nan          NaN           NaN           NaN           NaN   \n",
       "\n",
       "      Explained by: Log GDP per capita  Explained by: Social support  \\\n",
       "5                                  NaN                           NaN   \n",
       "6                                  NaN                           NaN   \n",
       "7                                  NaN                           NaN   \n",
       "8                                  NaN                           NaN   \n",
       "9                                  NaN                           NaN   \n",
       "...                                ...                           ...   \n",
       "2619                               NaN                           NaN   \n",
       "2620                               NaN                           NaN   \n",
       "2621                               NaN                           NaN   \n",
       "2622                               NaN                           NaN   \n",
       "2623                               NaN                           NaN   \n",
       "\n",
       "      Explained by: Healthy life expectancy  \\\n",
       "5                                       NaN   \n",
       "6                                       NaN   \n",
       "7                                       NaN   \n",
       "8                                       NaN   \n",
       "9                                       NaN   \n",
       "...                                     ...   \n",
       "2619                                    NaN   \n",
       "2620                                    NaN   \n",
       "2621                                    NaN   \n",
       "2622                                    NaN   \n",
       "2623                                    NaN   \n",
       "\n",
       "      Explained by: Freedom to make life choices  \n",
       "5                                            NaN  \n",
       "6                                            NaN  \n",
       "7                                            NaN  \n",
       "8                                            NaN  \n",
       "9                                            NaN  \n",
       "...                                          ...  \n",
       "2619                                         NaN  \n",
       "2620                                         NaN  \n",
       "2621                                         NaN  \n",
       "2622                                         NaN  \n",
       "2623                                         NaN  \n",
       "\n",
       "[1749 rows x 9 columns]"
      ]
     },
     "execution_count": 25,
     "metadata": {},
     "output_type": "execute_result"
    }
   ],
   "source": [
    "df[df[\"upperwhisker\"].isnull()]"
   ]
  },
  {
   "cell_type": "code",
   "execution_count": 27,
   "id": "17b28ac6-6a03-4015-8dc7-92b82250e3c1",
   "metadata": {},
   "outputs": [],
   "source": [
    "# Using the column \"upperwhisker\" as subset to extract null values\n",
    "upw_null = df[df[\"upperwhisker\"].isnull()]\n",
    "\n",
    "# Drop null values by index/rows\n",
    "df.drop(upw_null.index, inplace=True)"
   ]
  },
  {
   "cell_type": "code",
   "execution_count": 29,
   "id": "801a1993-8050-4ebc-9189-98217aa93b62",
   "metadata": {},
   "outputs": [
    {
     "data": {
      "text/plain": [
       "Year                                          0\n",
       "Country name                                  0\n",
       "Ladder score                                  0\n",
       "upperwhisker                                  0\n",
       "lowerwhisker                                  0\n",
       "Explained by: Log GDP per capita              3\n",
       "Explained by: Social support                  3\n",
       "Explained by: Healthy life expectancy         5\n",
       "Explained by: Freedom to make life choices    4\n",
       "dtype: int64"
      ]
     },
     "execution_count": 29,
     "metadata": {},
     "output_type": "execute_result"
    }
   ],
   "source": [
    "df.isnull().sum()"
   ]
  },
  {
   "cell_type": "code",
   "execution_count": 31,
   "id": "357fc331-d7c6-4692-a9d6-c8cb85e3bcb8",
   "metadata": {},
   "outputs": [],
   "source": [
    "# Using the imputation method to fill the null values for the rest of the columns with null values\n",
    "column_fill = df.loc[0:, \"Explained by: Log GDP per capita\":].columns\n",
    "\n",
    "# Loop through the list of columns to calculate the mean and fill the null value with the mean\n",
    "for col in column_fill:\n",
    "    mean = df[col].mean()\n",
    "    df[col] = df[col].fillna(mean)"
   ]
  },
  {
   "cell_type": "code",
   "execution_count": 33,
   "id": "6e052014-cb12-4ff2-8f85-c0c1908ced6e",
   "metadata": {},
   "outputs": [
    {
     "data": {
      "text/plain": [
       "Year                                          0\n",
       "Country name                                  0\n",
       "Ladder score                                  0\n",
       "upperwhisker                                  0\n",
       "lowerwhisker                                  0\n",
       "Explained by: Log GDP per capita              0\n",
       "Explained by: Social support                  0\n",
       "Explained by: Healthy life expectancy         0\n",
       "Explained by: Freedom to make life choices    0\n",
       "dtype: int64"
      ]
     },
     "execution_count": 33,
     "metadata": {},
     "output_type": "execute_result"
    }
   ],
   "source": [
    "df.isnull().sum()"
   ]
  },
  {
   "cell_type": "code",
   "execution_count": 35,
   "id": "e05c1935-f2b6-4d54-b9cf-abb8d52e3c4f",
   "metadata": {},
   "outputs": [
    {
     "data": {
      "text/plain": [
       "(875, 9)"
      ]
     },
     "execution_count": 35,
     "metadata": {},
     "output_type": "execute_result"
    }
   ],
   "source": [
    "# Rechecking the dataframe shape\n",
    "df.shape"
   ]
  },
  {
   "cell_type": "markdown",
   "id": "28ea736b-8161-4287-820d-04971d996b08",
   "metadata": {},
   "source": [
    "## Column Names Editing"
   ]
  },
  {
   "cell_type": "code",
   "execution_count": 37,
   "id": "3d7a966b-1cce-49c3-af02-4669ecdabce4",
   "metadata": {},
   "outputs": [
    {
     "data": {
      "text/plain": [
       "Index(['Year', 'Country name', 'Ladder score', 'upperwhisker', 'lowerwhisker',\n",
       "       'Explained by: Log GDP per capita', 'Explained by: Social support',\n",
       "       'Explained by: Healthy life expectancy',\n",
       "       'Explained by: Freedom to make life choices'],\n",
       "      dtype='object')"
      ]
     },
     "execution_count": 37,
     "metadata": {},
     "output_type": "execute_result"
    }
   ],
   "source": [
    "df.columns"
   ]
  },
  {
   "cell_type": "code",
   "execution_count": 39,
   "id": "ff8f9716-368b-49bd-b162-ae5b6e036ad1",
   "metadata": {},
   "outputs": [],
   "source": [
    "column = []\n",
    "\n",
    "# Membership check\n",
    "for col in df.columns:\n",
    "    if \"Explained by:\" in col:\n",
    "        col = col.replace(\"Explained by:\", \"\").strip()\n",
    "        column.append(col)\n",
    "    else:\n",
    "        column.append(col)\n",
    "\n",
    "df.columns = column\n",
    "\n",
    "# Replace whitespace with underscore and change to lower case\n",
    "column_dict = {col: \"_\".join(col.split(\" \")).lower() for col in df.columns}\n",
    "\n",
    "# Rename column using the dict \"colum_dict\"\n",
    "df = df.rename(columns=column_dict)"
   ]
  },
  {
   "cell_type": "code",
   "execution_count": 41,
   "id": "0b7ef839-8bf2-4976-8b55-7e6e9eeffb46",
   "metadata": {},
   "outputs": [
    {
     "data": {
      "text/plain": [
       "Index(['year', 'country_name', 'ladder_score', 'upperwhisker', 'lowerwhisker',\n",
       "       'log_gdp_per_capita', 'social_support', 'healthy_life_expectancy',\n",
       "       'freedom_to_make_life_choices'],\n",
       "      dtype='object')"
      ]
     },
     "execution_count": 41,
     "metadata": {},
     "output_type": "execute_result"
    }
   ],
   "source": [
    "df.columns"
   ]
  },
  {
   "cell_type": "markdown",
   "id": "ff840209-e113-4c27-a752-213effd94ef6",
   "metadata": {},
   "source": [
    "## Mean, Median, Mode, and Standard Deviation of each column"
   ]
  },
  {
   "cell_type": "code",
   "execution_count": 43,
   "id": "3f589431-6e18-4cd0-a93e-511d41bf189b",
   "metadata": {},
   "outputs": [],
   "source": [
    "# Function to calculate the mean\n",
    "def get_mean(df, col):\n",
    "    total = df[col].sum() # sum all values\n",
    "    n = len(df[col])      # number of elements\n",
    "    mean = total / n\n",
    "\n",
    "    return mean"
   ]
  },
  {
   "cell_type": "code",
   "execution_count": 45,
   "id": "84c5ae77-7883-4789-bb78-549fbec66aec",
   "metadata": {},
   "outputs": [],
   "source": [
    "# Function to calculate the median\n",
    "def get_median(df, col):\n",
    "    sort_col = df[col].sort_values().reset_index(drop=True)  # Sort values in ascending order\n",
    "    n = len(sort_col)  # number of elements\n",
    "    \n",
    "    if n % 2 == 1:     # check if number of element is an even number\n",
    "        median = sort_col[n // 2]\n",
    "    else:\n",
    "        median = ((sort_col[n // 2 - 1]) + (sort_col[n // 2])) / 2\n",
    "\n",
    "\n",
    "    return median"
   ]
  },
  {
   "cell_type": "code",
   "execution_count": 47,
   "id": "345c2ba8-dad7-476d-8c36-a4b3c7ce5558",
   "metadata": {},
   "outputs": [],
   "source": [
    "# Function to calculate the mode\n",
    "def get_mode(df, col):\n",
    "    mode_values = df[col].mode()  # get the mode \n",
    "    \n",
    "    if len(mode_values) == 0:  # Check if there is no mode\n",
    "        mode = None\n",
    "        \n",
    "    elif len(mode_values) == 1:  # Check if there is only one mode\n",
    "        mode = mode_values[0]\n",
    "        \n",
    "    else:                       \n",
    "        mode = list(mode_values)  # stores the multiple  ode in a list\n",
    "\n",
    "    return mode"
   ]
  },
  {
   "cell_type": "code",
   "execution_count": 49,
   "id": "c6c27bd9-ac8d-4eac-830d-d8d20e6be512",
   "metadata": {},
   "outputs": [],
   "source": [
    "# Function to calculate the Standard Deviation\n",
    "def get_std(df, col):\n",
    "    mean = get_mean(df, col)   # gets the mean using the \"get_mean()\"\n",
    "    values = df[col] \n",
    "    n = len(values)\n",
    "    \n",
    "    square_diff = [(x - mean)**2 for x in values]  # Squares the difference of each value and mean of the column\n",
    "    variance = sum(square_diff) / (n - 1)         # the variance\n",
    "    std_dev = math.sqrt(variance)      # gets the square root of the variance\n",
    "    \n",
    "    return std_dev"
   ]
  },
  {
   "cell_type": "code",
   "execution_count": 51,
   "id": "46200eaf-0f22-441a-b68c-72213e84ae71",
   "metadata": {},
   "outputs": [
    {
     "name": "stdout",
     "output_type": "stream",
     "text": [
      "ladder_score\n",
      "{'Mean: 5.533725714285715, Median: 5.674, Mode: [4.289, 4.308, 5.411, 6.125, 6.172, 6.33, 6.455, 6.494], Standard Deviation: 1.1209253737693623'}\n",
      "\n",
      "upperwhisker\n",
      "{'Mean: 5.648686857142857, Median: 5.775, Mode: [4.454, 5.339, 5.406, 6.262, 6.424], Standard Deviation: 1.103934833643875'}\n",
      "\n",
      "lowerwhisker\n",
      "{'Mean: 5.418737142857143, Median: 5.529, Mode: 4.783, Standard Deviation: 1.1390667963403234'}\n",
      "\n",
      "log_gdp_per_capita\n",
      "{'Mean: 1.2202798165137616, Median: 1.261, Mode: 0.0, Standard Deviation: 0.46265161745734024'}\n",
      "\n",
      "social_support\n",
      "{'Mean: 1.0785286697247707, Median: 1.106, Mode: 0.0, Standard Deviation: 0.35444526432748974'}\n",
      "\n",
      "healthy_life_expectancy\n",
      "{'Mean: 0.5429172413793103, Median: 0.554, Mode: [0.0, 0.587], Standard Deviation: 0.22231039807175693'}\n",
      "\n",
      "freedom_to_make_life_choices\n",
      "{'Mean: 0.5637233065442021, Median: 0.571, Mode: [0.0, 0.647, 0.651], Standard Deviation: 0.17979026147151772'}\n",
      "\n"
     ]
    }
   ],
   "source": [
    "numerical_columns = df.select_dtypes(include=\"number\").columns\n",
    "\n",
    "for col in numerical_columns:\n",
    "    print(col)\n",
    "    print({f\"Mean: {get_mean(df, col)}, Median: {get_median(df, col)}, Mode: {get_mode(df, col)}, Standard Deviation: {get_std(df, col)}\"})\n",
    "    print(\"\")"
   ]
  },
  {
   "cell_type": "markdown",
   "id": "56f3b2eb-c6f8-458a-a88a-e6cbd78c3335",
   "metadata": {},
   "source": [
    "## Correlation"
   ]
  },
  {
   "cell_type": "code",
   "execution_count": 55,
   "id": "47905695-7bd7-4af4-9b85-528aab315314",
   "metadata": {},
   "outputs": [
    {
     "data": {
      "text/html": [
       "<div>\n",
       "<style scoped>\n",
       "    .dataframe tbody tr th:only-of-type {\n",
       "        vertical-align: middle;\n",
       "    }\n",
       "\n",
       "    .dataframe tbody tr th {\n",
       "        vertical-align: top;\n",
       "    }\n",
       "\n",
       "    .dataframe thead th {\n",
       "        text-align: right;\n",
       "    }\n",
       "</style>\n",
       "<table border=\"1\" class=\"dataframe\">\n",
       "  <thead>\n",
       "    <tr style=\"text-align: right;\">\n",
       "      <th></th>\n",
       "      <th>ladder_score</th>\n",
       "      <th>upperwhisker</th>\n",
       "      <th>lowerwhisker</th>\n",
       "      <th>log_gdp_per_capita</th>\n",
       "      <th>social_support</th>\n",
       "      <th>healthy_life_expectancy</th>\n",
       "      <th>freedom_to_make_life_choices</th>\n",
       "    </tr>\n",
       "  </thead>\n",
       "  <tbody>\n",
       "    <tr>\n",
       "      <th>ladder_score</th>\n",
       "      <td>1.000000</td>\n",
       "      <td>0.999456</td>\n",
       "      <td>0.999489</td>\n",
       "      <td>0.688491</td>\n",
       "      <td>0.685170</td>\n",
       "      <td>0.656844</td>\n",
       "      <td>0.541182</td>\n",
       "    </tr>\n",
       "    <tr>\n",
       "      <th>upperwhisker</th>\n",
       "      <td>0.999456</td>\n",
       "      <td>1.000000</td>\n",
       "      <td>0.997891</td>\n",
       "      <td>0.682678</td>\n",
       "      <td>0.680963</td>\n",
       "      <td>0.646302</td>\n",
       "      <td>0.541902</td>\n",
       "    </tr>\n",
       "    <tr>\n",
       "      <th>lowerwhisker</th>\n",
       "      <td>0.999489</td>\n",
       "      <td>0.997891</td>\n",
       "      <td>1.000000</td>\n",
       "      <td>0.693405</td>\n",
       "      <td>0.688525</td>\n",
       "      <td>0.666391</td>\n",
       "      <td>0.539925</td>\n",
       "    </tr>\n",
       "    <tr>\n",
       "      <th>log_gdp_per_capita</th>\n",
       "      <td>0.688491</td>\n",
       "      <td>0.682678</td>\n",
       "      <td>0.693405</td>\n",
       "      <td>1.000000</td>\n",
       "      <td>0.616301</td>\n",
       "      <td>0.513473</td>\n",
       "      <td>0.449572</td>\n",
       "    </tr>\n",
       "    <tr>\n",
       "      <th>social_support</th>\n",
       "      <td>0.685170</td>\n",
       "      <td>0.680963</td>\n",
       "      <td>0.688525</td>\n",
       "      <td>0.616301</td>\n",
       "      <td>1.000000</td>\n",
       "      <td>0.521331</td>\n",
       "      <td>0.528699</td>\n",
       "    </tr>\n",
       "    <tr>\n",
       "      <th>healthy_life_expectancy</th>\n",
       "      <td>0.656844</td>\n",
       "      <td>0.646302</td>\n",
       "      <td>0.666391</td>\n",
       "      <td>0.513473</td>\n",
       "      <td>0.521331</td>\n",
       "      <td>1.000000</td>\n",
       "      <td>0.259620</td>\n",
       "    </tr>\n",
       "    <tr>\n",
       "      <th>freedom_to_make_life_choices</th>\n",
       "      <td>0.541182</td>\n",
       "      <td>0.541902</td>\n",
       "      <td>0.539925</td>\n",
       "      <td>0.449572</td>\n",
       "      <td>0.528699</td>\n",
       "      <td>0.259620</td>\n",
       "      <td>1.000000</td>\n",
       "    </tr>\n",
       "  </tbody>\n",
       "</table>\n",
       "</div>"
      ],
      "text/plain": [
       "                              ladder_score  upperwhisker  lowerwhisker  \\\n",
       "ladder_score                      1.000000      0.999456      0.999489   \n",
       "upperwhisker                      0.999456      1.000000      0.997891   \n",
       "lowerwhisker                      0.999489      0.997891      1.000000   \n",
       "log_gdp_per_capita                0.688491      0.682678      0.693405   \n",
       "social_support                    0.685170      0.680963      0.688525   \n",
       "healthy_life_expectancy           0.656844      0.646302      0.666391   \n",
       "freedom_to_make_life_choices      0.541182      0.541902      0.539925   \n",
       "\n",
       "                              log_gdp_per_capita  social_support  \\\n",
       "ladder_score                            0.688491        0.685170   \n",
       "upperwhisker                            0.682678        0.680963   \n",
       "lowerwhisker                            0.693405        0.688525   \n",
       "log_gdp_per_capita                      1.000000        0.616301   \n",
       "social_support                          0.616301        1.000000   \n",
       "healthy_life_expectancy                 0.513473        0.521331   \n",
       "freedom_to_make_life_choices            0.449572        0.528699   \n",
       "\n",
       "                              healthy_life_expectancy  \\\n",
       "ladder_score                                 0.656844   \n",
       "upperwhisker                                 0.646302   \n",
       "lowerwhisker                                 0.666391   \n",
       "log_gdp_per_capita                           0.513473   \n",
       "social_support                               0.521331   \n",
       "healthy_life_expectancy                      1.000000   \n",
       "freedom_to_make_life_choices                 0.259620   \n",
       "\n",
       "                              freedom_to_make_life_choices  \n",
       "ladder_score                                      0.541182  \n",
       "upperwhisker                                      0.541902  \n",
       "lowerwhisker                                      0.539925  \n",
       "log_gdp_per_capita                                0.449572  \n",
       "social_support                                    0.528699  \n",
       "healthy_life_expectancy                           0.259620  \n",
       "freedom_to_make_life_choices                      1.000000  "
      ]
     },
     "execution_count": 55,
     "metadata": {},
     "output_type": "execute_result"
    }
   ],
   "source": [
    "df.select_dtypes(include=\"number\").corr()"
   ]
  },
  {
   "cell_type": "code",
   "execution_count": null,
   "id": "5cc2d106-7250-48c2-9fd2-3cf3c19a135f",
   "metadata": {},
   "outputs": [],
   "source": []
  }
 ],
 "metadata": {
  "kernelspec": {
   "display_name": "Python 3 (ipykernel)",
   "language": "python",
   "name": "python3"
  },
  "language_info": {
   "codemirror_mode": {
    "name": "ipython",
    "version": 3
   },
   "file_extension": ".py",
   "mimetype": "text/x-python",
   "name": "python",
   "nbconvert_exporter": "python",
   "pygments_lexer": "ipython3",
   "version": "3.11.7"
  }
 },
 "nbformat": 4,
 "nbformat_minor": 5
}
